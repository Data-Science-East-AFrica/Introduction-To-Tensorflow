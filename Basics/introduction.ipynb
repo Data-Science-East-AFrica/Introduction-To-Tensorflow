{
 "cells": [
  {
   "cell_type": "markdown",
   "metadata": {},
   "source": [
    "What is Tensorflow?\n",
    "\n",
    "I would describe tensorflow as a open source machine learning framework developed by Google which can be used to build neural networks and perform a variety of (almost all) machine learning tasks.\n",
    "\n",
    "Tensorflow works on data flow graphs where nodes are the mathematical operations and the edges are the data in the for tensors, hence the name Tensor-Flow. \n",
    "\n",
    "Tesorflow supports three main type of data types namely [Constants](https://www.tensorflow.org/api_docs/python/tf/constant), [Variables](https://www.tensorflow.org/api_docs/python/tf/Variable) and [Placeholders](https://www.tensorflow.org/api_docs/python/tf/placeholder).  I think it is fairly evident from the name what they are and what are they used for. We will keep discussing them as we use them later but for now it’s enough to know that they are the three data types used in tensorflow.\n"
   ]
  },
  {
   "cell_type": "markdown",
   "metadata": {},
   "source": [
    "**Constants**\n",
    "Constant can be created using ```tf.constant()``` function.\n",
    "```python\n",
    "import tensorflow as tf\n",
    "x = tf.constant([1,2,3,4])\n",
    "```"
   ]
  },
  {
   "cell_type": "markdown",
   "metadata": {},
   "source": [
    "A constant has the following arguments which can be tweaked as required to get the desired function.\n",
    "\n",
    "**- value:** A constant value (or list) of output type dtype.\n",
    "\n",
    "**- dtype:** The type of the elements of the resulting tensor.\n",
    "\n",
    "**- shape:** Optional dimensions of resulting tensor.\n",
    "\n",
    "**- name:** Optional name for the tensor.\n",
    "\n",
    "**- verify_shape:** Boolean that enables verification of a shape of values."
   ]
  },
  {
   "cell_type": "markdown",
   "metadata": {},
   "source": [
    "But declaring a constant is only half the job done. How will you use those constants to perform basic functions like multiplication and get the desired output? **That’s where Sessions come!**"
   ]
  },
  {
   "cell_type": "markdown",
   "metadata": {},
   "source": [
    "Session\n",
    "A session is basically the backbone of a tensorflow program. A session fires up the program to get the constants ready and perform the desired operation."
   ]
  },
  {
   "cell_type": "markdown",
   "metadata": {},
   "source": [
    "**Example:**"
   ]
  },
  {
   "cell_type": "code",
   "execution_count": 2,
   "metadata": {},
   "outputs": [
    {
     "name": "stdout",
     "output_type": "stream",
     "text": [
      "[ 6 14 24 36 50]\n"
     ]
    }
   ],
   "source": [
    "import tensorflow as tf\n",
    "\n",
    "x = tf.constant([1,2,3,4,5])\n",
    "y = tf.constant([6,7,8,9,10])\n",
    "\n",
    "result = tf.multiply(x,y)\n",
    "\n",
    "sess = tf.Session()\n",
    "\n",
    "print(sess.run(result))\n",
    "\n",
    "sess.close()"
   ]
  },
  {
   "cell_type": "markdown",
   "metadata": {},
   "source": [
    "Here, we declared two constants x and y. Then we used tf.multiply() function to multiply them and store the product in result variable. This is not when actual calculation happens, it is just a declaration. The actual operation happens after the session is run."
   ]
  },
  {
   "cell_type": "markdown",
   "metadata": {},
   "source": [
    "Next, we defined a session sess by using tf.Session() function. This fires up our program and we are ready to calculate and display the result. We do that by using session.run(result) function inside the print() function."
   ]
  },
  {
   "cell_type": "markdown",
   "metadata": {},
   "source": [
    "Lastly, we close the session by using sess.close() function.\n",
    "This will give an output like this, which is the exact multiplication of simultaneous terms of the matrices-"
   ]
  },
  {
   "cell_type": "markdown",
   "metadata": {},
   "source": [
    "**Variables and Constants**\n",
    "\n",
    "In TensorFlow the differences between constants and variables are that when you declare some constant, its value can't be changed in the future (also the initialization should be with a value, not with operation).\n",
    "\n",
    "Nevertheless, when you declare a Variable, you can change its value in the future with tf.assign() method (and the initialization can be achieved with a value or operation)."
   ]
  },
  {
   "cell_type": "code",
   "execution_count": null,
   "metadata": {},
   "outputs": [],
   "source": []
  }
 ],
 "metadata": {
  "kernelspec": {
   "display_name": "Python 3",
   "language": "python",
   "name": "python3"
  },
  "language_info": {
   "codemirror_mode": {
    "name": "ipython",
    "version": 3
   },
   "file_extension": ".py",
   "mimetype": "text/x-python",
   "name": "python",
   "nbconvert_exporter": "python",
   "pygments_lexer": "ipython3",
   "version": "3.7.3"
  }
 },
 "nbformat": 4,
 "nbformat_minor": 2
}
